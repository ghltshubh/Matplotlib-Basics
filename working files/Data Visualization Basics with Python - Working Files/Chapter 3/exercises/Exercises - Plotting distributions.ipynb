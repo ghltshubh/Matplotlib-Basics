{
 "cells": [
  {
   "cell_type": "markdown",
   "metadata": {},
   "source": [
    "# Exercise 1\n",
    "\n",
    "Create a histogram showing the distribution of the Roman Emperor's reign lengths.\n",
    "\n",
    "What does this distribution tell you?"
   ]
  },
  {
   "cell_type": "code",
   "execution_count": 10,
   "metadata": {},
   "outputs": [
    {
     "data": {
      "text/plain": [
       "''"
      ]
     },
     "execution_count": 10,
     "metadata": {},
     "output_type": "execute_result"
    },
    {
     "data": {
      "image/png": "[encoded data removed]",
      "text/plain": [
       "<matplotlib.figure.Figure at 0x1150bf550>"
      ]
     },
     "metadata": {},
     "output_type": "display_data"
    }
   ],
   "source": [
    "%matplotlib inline\n",
    "import pandas as pd\n",
    "import matplotlib.pyplot as plt\n",
    "import numpy as np\n",
    "\n",
    "roman_emperors = pd.read_csv('data/roman-emperor-reigns.csv')\n",
    "roman_emperor_reign_lengths = roman_emperors['Length_of_Reign'].values\n",
    "plt.hist(roman_emperor_reign_lengths)\n",
    ";\n",
    "# Median reign lengths were between 0-5"
   ]
  },
  {
   "cell_type": "markdown",
   "metadata": {},
   "source": [
    "# Exercise 2\n",
    "\n",
    "Create two box plots to compare the earnings of recent college graduates in majors that are primarily composed of women to the earnings of recent college graduates in majors that are primarily composed of men.\n",
    "\n",
    "Does there appear to be a significant difference? (Hint: Use notches.)\n",
    "\n",
    "Remember to label the categories!"
   ]
  },
  {
   "cell_type": "code",
   "execution_count": 23,
   "metadata": {},
   "outputs": [
    {
     "data": {
      "text/plain": [
       "''"
      ]
     },
     "execution_count": 23,
     "metadata": {},
     "output_type": "execute_result"
    },
    {
     "data": {
      "image/png": "[encoded data removed]",
      "text/plain": [
       "<matplotlib.figure.Figure at 0x116725828>"
      ]
     },
     "metadata": {},
     "output_type": "display_data"
    }
   ],
   "source": [
    "import pandas as pd\n",
    "\n",
    "college_major_earnings = pd.read_csv('data/recent-college-grads-earnings.csv')\n",
    "more_men_earnings = college_major_earnings[\n",
    "    college_major_earnings['ShareWomen'] < 0.5]['Median'].values\n",
    "\n",
    "more_women_earnings = college_major_earnings[\n",
    "    college_major_earnings['ShareWomen'] > 0.5]['Median'].values\n",
    "\n",
    "earnings_data = [more_men_earnings, more_women_earnings]\n",
    "plt.boxplot(earnings_data,\n",
    "           labels=['Men earnings', 'Women earnings'],\n",
    "           notch=True,\n",
    "           bootstrap=1000)\n",
    ";"
   ]
  }
 ],
 "metadata": {
  "kernelspec": {
   "display_name": "Python 3",
   "language": "python",
   "name": "python3"
  },
  "language_info": {
   "codemirror_mode": {
    "name": "ipython",
    "version": 3
   },
   "file_extension": ".py",
   "mimetype": "text/x-python",
   "name": "python",
   "nbconvert_exporter": "python",
   "pygments_lexer": "ipython3",
   "version": "3.6.3"
  }
 },
 "nbformat": 4,
 "nbformat_minor": 1
}
